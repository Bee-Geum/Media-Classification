{
 "cells": [
  {
   "cell_type": "code",
   "execution_count": 12,
   "metadata": {},
   "outputs": [],
   "source": [
    "import os\n",
    "from PIL import Image\n",
    "import random"
   ]
  },
  {
   "cell_type": "code",
   "execution_count": 13,
   "metadata": {},
   "outputs": [],
   "source": [
    "news = ['channela', 'jtbc', 'mbn', 'tvchosun']"
   ]
  },
  {
   "cell_type": "code",
   "execution_count": 14,
   "metadata": {},
   "outputs": [
    {
     "name": "stdout",
     "output_type": "stream",
     "text": [
      "channela 4980 0\n",
      "jtbc 4755 0\n",
      "mbn 4992 0\n",
      "tvchosun 3842 0\n"
     ]
    }
   ],
   "source": [
    "for new in news:\n",
    "    dir_path = f'./fig/{new}'\n",
    "\n",
    "    items = os.listdir(dir_path)\n",
    "\n",
    "    size_1280  = 0\n",
    "    size_other = 0\n",
    "\n",
    "    for item in items:\n",
    "        image = Image.open(f'./fig/{new}/{item}')\n",
    "\n",
    "        width, height = image.size\n",
    "\n",
    "        if width == 1280 and height == 720:\n",
    "            size_1280  += 1\n",
    "        else:\n",
    "            os.remove(f'./fig/{new}/{item}')\n",
    "\n",
    "    print(new, size_1280, size_other)"
   ]
  },
  {
   "cell_type": "code",
   "execution_count": 16,
   "metadata": {},
   "outputs": [],
   "source": [
    "for new in news:\n",
    "    dir_path = f'./fig/{new}'\n",
    "\n",
    "    items = os.listdir(dir_path)\n",
    "\n",
    "    if len(items) > 4000:\n",
    "        selected = random.sample(items, 1000)\n",
    "\n",
    "        for item in selected:\n",
    "            os.remove(f'./fig/{new}/{item}')"
   ]
  },
  {
   "cell_type": "code",
   "execution_count": 21,
   "metadata": {},
   "outputs": [
    {
     "name": "stdout",
     "output_type": "stream",
     "text": [
      "channela 3980\n",
      "jtbc 3755\n",
      "mbn 3992\n",
      "tvchosun 3842\n"
     ]
    }
   ],
   "source": [
    "for new in news:\n",
    "    dir_path = f'./fig/{new}'\n",
    "\n",
    "    items = os.listdir(dir_path)\n",
    "\n",
    "    print(new, len(items))"
   ]
  },
  {
   "cell_type": "code",
   "execution_count": 23,
   "metadata": {},
   "outputs": [],
   "source": [
    "for new in news:\n",
    "    dir_path = f'./fig/{new}'\n",
    "\n",
    "    items = os.listdir(dir_path)\n",
    "\n",
    "    for item in items:\n",
    "        image = Image.open(f'./fig/{new}/{item}')\n",
    "\n",
    "        width, height = image.size\n",
    "\n",
    "        # 자르기 시작할 좌표 계산\n",
    "        left   = 525\n",
    "        top    = 20\n",
    "        right  = width - 240  # 오른쪽에서 240픽셀 떨어진 지점\n",
    "        bottom = top + 410  # 세로 길이가 410픽셀이 되도록\n",
    "\n",
    "        # 입력받은 좌표가 이미지 내에 있는지 확인\n",
    "        if 0 <= left < right <= width and 0 <= top < bottom <= height:\n",
    "            # 이미지 자르기\n",
    "            cropped_image = image.crop((left, top, right, bottom))\n",
    "            cropped_image.save(f'./fig/{new}/{item}')\n",
    "        else:\n",
    "            print(\"유효하지 않은 좌표입니다. 이미지의 크기를 확인하고 다시 시도하세요.\")\n"
   ]
  }
 ],
 "metadata": {
  "kernelspec": {
   "display_name": "Python 3",
   "language": "python",
   "name": "python3"
  },
  "language_info": {
   "codemirror_mode": {
    "name": "ipython",
    "version": 3
   },
   "file_extension": ".py",
   "mimetype": "text/x-python",
   "name": "python",
   "nbconvert_exporter": "python",
   "pygments_lexer": "ipython3",
   "version": "3.10.12"
  }
 },
 "nbformat": 4,
 "nbformat_minor": 2
}
